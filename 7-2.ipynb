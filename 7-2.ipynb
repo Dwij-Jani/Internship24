{
 "cells": [
  {
   "cell_type": "code",
   "execution_count": 1,
   "id": "8a6faa87-cf09-44f2-8459-e1000f189f0b",
   "metadata": {},
   "outputs": [
    {
     "name": "stdout",
     "output_type": "stream",
     "text": [
      "WARNING:tensorflow:From C:\\Users\\Dwij\\AppData\\Local\\Programs\\Python\\Python310\\lib\\site-packages\\keras\\src\\losses.py:2976: The name tf.losses.sparse_softmax_cross_entropy is deprecated. Please use tf.compat.v1.losses.sparse_softmax_cross_entropy instead.\n",
      "\n"
     ]
    }
   ],
   "source": [
    "#importing libraries\n",
    "from numpy import loadtxt\n",
    "from tensorflow import keras"
   ]
  },
  {
   "cell_type": "code",
   "execution_count": 2,
   "id": "3f2b413a-6983-4d66-8d81-10abc8ca3f6c",
   "metadata": {},
   "outputs": [],
   "source": [
    "from tensorflow.keras.models import Sequential\n",
    "from tensorflow.keras.layers import Dense"
   ]
  },
  {
   "cell_type": "code",
   "execution_count": 13,
   "id": "87327143-6f87-421c-a44d-b0e4660e6f64",
   "metadata": {},
   "outputs": [
    {
     "data": {
      "text/plain": [
       "array([[  6.   , 148.   ,  72.   , ...,   0.627,  50.   ,   1.   ],\n",
       "       [  1.   ,  85.   ,  66.   , ...,   0.351,  31.   ,   0.   ],\n",
       "       [  8.   , 183.   ,  64.   , ...,   0.672,  32.   ,   1.   ],\n",
       "       ...,\n",
       "       [  5.   , 121.   ,  72.   , ...,   0.245,  30.   ,   0.   ],\n",
       "       [  1.   , 126.   ,  60.   , ...,   0.349,  47.   ,   1.   ],\n",
       "       [  1.   ,  93.   ,  70.   , ...,   0.315,  23.   ,   0.   ]])"
      ]
     },
     "execution_count": 13,
     "metadata": {},
     "output_type": "execute_result"
    }
   ],
   "source": [
    "# loading dataframe using numpy instead of pandas\n",
    "df = loadtxt('pima-indians-diabetes.csv', delimiter=',')\n",
    "df"
   ]
  },
  {
   "cell_type": "code",
   "execution_count": 4,
   "id": "3864914a-17bd-4810-a766-1f344fdbbc7a",
   "metadata": {},
   "outputs": [],
   "source": [
    "#splitting datadbase into x and y\n",
    "x = df[:,0:8]\n",
    "y = df[:,8]"
   ]
  },
  {
   "cell_type": "code",
   "execution_count": 5,
   "id": "987e643f-65cb-4362-97e3-5cbe607eeed2",
   "metadata": {},
   "outputs": [
    {
     "name": "stdout",
     "output_type": "stream",
     "text": [
      "WARNING:tensorflow:From C:\\Users\\Dwij\\AppData\\Local\\Programs\\Python\\Python310\\lib\\site-packages\\keras\\src\\backend.py:873: The name tf.get_default_graph is deprecated. Please use tf.compat.v1.get_default_graph instead.\n",
      "\n"
     ]
    }
   ],
   "source": [
    "# Defining Keras model\n",
    "model = Sequential()\n",
    "model.add(Dense(8, input_dim = 8, activation='relu'))\n",
    "model.add(Dense(8, activation='relu'))\n",
    "model.add(Dense(1, activation='sigmoid'))"
   ]
  },
  {
   "cell_type": "code",
   "execution_count": 6,
   "id": "05cf0623-6bf7-4be2-ab89-8ad1072d6ac3",
   "metadata": {},
   "outputs": [
    {
     "name": "stdout",
     "output_type": "stream",
     "text": [
      "WARNING:tensorflow:From C:\\Users\\Dwij\\AppData\\Local\\Programs\\Python\\Python310\\lib\\site-packages\\keras\\src\\optimizers\\__init__.py:309: The name tf.train.Optimizer is deprecated. Please use tf.compat.v1.train.Optimizer instead.\n",
      "\n"
     ]
    }
   ],
   "source": [
    "# Compiling the model\n",
    "model.compile(loss='binary_crossentropy',optimizer='adam', metrics=['accuracy'])"
   ]
  },
  {
   "cell_type": "code",
   "execution_count": 16,
   "id": "e6529884-cf1d-48d4-9b10-0cab8946c3ad",
   "metadata": {},
   "outputs": [
    {
     "name": "stdout",
     "output_type": "stream",
     "text": [
      "Epoch 1/30\n",
      "52/52 [==============================] - 0s 2ms/step - loss: 0.5656 - accuracy: 0.7214\n",
      "Epoch 2/30\n",
      "52/52 [==============================] - 0s 2ms/step - loss: 0.5233 - accuracy: 0.7396\n",
      "Epoch 3/30\n",
      "52/52 [==============================] - 0s 2ms/step - loss: 0.5219 - accuracy: 0.7461\n",
      "Epoch 4/30\n",
      "52/52 [==============================] - 0s 2ms/step - loss: 0.5188 - accuracy: 0.7409\n",
      "Epoch 5/30\n",
      "52/52 [==============================] - 0s 1ms/step - loss: 0.5181 - accuracy: 0.7448\n",
      "Epoch 6/30\n",
      "52/52 [==============================] - 0s 2ms/step - loss: 0.5281 - accuracy: 0.7331\n",
      "Epoch 7/30\n",
      "52/52 [==============================] - 0s 2ms/step - loss: 0.5127 - accuracy: 0.7448\n",
      "Epoch 8/30\n",
      "52/52 [==============================] - 0s 2ms/step - loss: 0.5358 - accuracy: 0.7318\n",
      "Epoch 9/30\n",
      "52/52 [==============================] - 0s 2ms/step - loss: 0.5241 - accuracy: 0.7422\n",
      "Epoch 10/30\n",
      "52/52 [==============================] - 0s 2ms/step - loss: 0.5195 - accuracy: 0.7370\n",
      "Epoch 11/30\n",
      "52/52 [==============================] - 0s 2ms/step - loss: 0.5171 - accuracy: 0.7526\n",
      "Epoch 12/30\n",
      "52/52 [==============================] - 0s 2ms/step - loss: 0.5164 - accuracy: 0.7435\n",
      "Epoch 13/30\n",
      "52/52 [==============================] - 0s 2ms/step - loss: 0.5188 - accuracy: 0.7461\n",
      "Epoch 14/30\n",
      "52/52 [==============================] - 0s 2ms/step - loss: 0.5187 - accuracy: 0.7422\n",
      "Epoch 15/30\n",
      "52/52 [==============================] - 0s 2ms/step - loss: 0.5207 - accuracy: 0.7448\n",
      "Epoch 16/30\n",
      "52/52 [==============================] - 0s 1ms/step - loss: 0.5315 - accuracy: 0.7344\n",
      "Epoch 17/30\n",
      "52/52 [==============================] - 0s 2ms/step - loss: 0.5142 - accuracy: 0.7448\n",
      "Epoch 18/30\n",
      "52/52 [==============================] - 0s 2ms/step - loss: 0.5174 - accuracy: 0.7526\n",
      "Epoch 19/30\n",
      "52/52 [==============================] - 0s 1ms/step - loss: 0.5174 - accuracy: 0.7474\n",
      "Epoch 20/30\n",
      "52/52 [==============================] - 0s 2ms/step - loss: 0.5090 - accuracy: 0.7565\n",
      "Epoch 21/30\n",
      "52/52 [==============================] - 0s 2ms/step - loss: 0.5173 - accuracy: 0.7409\n",
      "Epoch 22/30\n",
      "52/52 [==============================] - 0s 2ms/step - loss: 0.5193 - accuracy: 0.7474\n",
      "Epoch 23/30\n",
      "52/52 [==============================] - 0s 2ms/step - loss: 0.5177 - accuracy: 0.7539\n",
      "Epoch 24/30\n",
      "52/52 [==============================] - 0s 2ms/step - loss: 0.5140 - accuracy: 0.7435\n",
      "Epoch 25/30\n",
      "52/52 [==============================] - 0s 2ms/step - loss: 0.5151 - accuracy: 0.7422\n",
      "Epoch 26/30\n",
      "52/52 [==============================] - 0s 1ms/step - loss: 0.5120 - accuracy: 0.7513\n",
      "Epoch 27/30\n",
      "52/52 [==============================] - 0s 1ms/step - loss: 0.5150 - accuracy: 0.7500\n",
      "Epoch 28/30\n",
      "52/52 [==============================] - 0s 2ms/step - loss: 0.5175 - accuracy: 0.7487\n",
      "Epoch 29/30\n",
      "52/52 [==============================] - 0s 1ms/step - loss: 0.5064 - accuracy: 0.7487\n",
      "Epoch 30/30\n",
      "52/52 [==============================] - 0s 2ms/step - loss: 0.5133 - accuracy: 0.7539\n"
     ]
    },
    {
     "data": {
      "text/plain": [
       "<keras.src.callbacks.History at 0x1a9b95d9570>"
      ]
     },
     "execution_count": 16,
     "metadata": {},
     "output_type": "execute_result"
    }
   ],
   "source": [
    "# fitting x and y into the model\n",
    "model.fit(x, y, epochs=30, batch_size =15)"
   ]
  },
  {
   "cell_type": "code",
   "execution_count": 17,
   "id": "e63f6fde-36a6-457b-8117-4d85c2712b9c",
   "metadata": {},
   "outputs": [
    {
     "name": "stdout",
     "output_type": "stream",
     "text": [
      "24/24 [==============================] - 0s 1ms/step - loss: 0.4995 - accuracy: 0.7539\n",
      "Accuracy: 75.39\n"
     ]
    }
   ],
   "source": [
    "#calculating accuracy \n",
    "_,accuracy = model.evaluate(x,y) # using _, for making accuracy predicate a real number not a list.\n",
    "print('Accuracy: %.2f' % (accuracy*100))"
   ]
  },
  {
   "cell_type": "code",
   "execution_count": 18,
   "id": "413a14ff-38ea-44cd-b4c5-7e59408b1dfe",
   "metadata": {},
   "outputs": [],
   "source": [
    "import visualkeras"
   ]
  },
  {
   "cell_type": "code",
   "execution_count": 22,
   "id": "13bb16f6-4fe0-4304-9761-c08fdc98f218",
   "metadata": {},
   "outputs": [],
   "source": [
    "visualkeras.layered_view(model).show()"
   ]
  },
  {
   "cell_type": "code",
   "execution_count": null,
   "id": "69a87f3b-8351-4cb8-b53e-662a7fb0e7b5",
   "metadata": {},
   "outputs": [],
   "source": []
  }
 ],
 "metadata": {
  "kernelspec": {
   "display_name": "Python 3 (ipykernel)",
   "language": "python",
   "name": "python3"
  },
  "language_info": {
   "codemirror_mode": {
    "name": "ipython",
    "version": 3
   },
   "file_extension": ".py",
   "mimetype": "text/x-python",
   "name": "python",
   "nbconvert_exporter": "python",
   "pygments_lexer": "ipython3",
   "version": "3.10.4"
  }
 },
 "nbformat": 4,
 "nbformat_minor": 5
}

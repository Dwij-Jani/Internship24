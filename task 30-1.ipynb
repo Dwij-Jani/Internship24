{
 "cells": [
  {
   "cell_type": "markdown",
   "id": "44d5e052-b3a5-466e-9a9f-c31dbb4598a5",
   "metadata": {},
   "source": [
    "# Task 30-1 "
   ]
  },
  {
   "cell_type": "code",
   "execution_count": 29,
   "id": "3c20c4fd-6a3c-498e-b4c7-1a8e2d75f391",
   "metadata": {},
   "outputs": [],
   "source": [
    "import numpy as np\n",
    "import pandas as pd"
   ]
  },
  {
   "cell_type": "code",
   "execution_count": 30,
   "id": "a794473f-83c3-43ab-9047-9cbb386e8d4b",
   "metadata": {},
   "outputs": [
    {
     "name": "stdout",
     "output_type": "stream",
     "text": [
      "<class 'pandas.core.frame.DataFrame'>\n",
      "RangeIndex: 62035 entries, 0 to 62034\n",
      "Data columns (total 31 columns):\n",
      " #   Column                 Non-Null Count  Dtype \n",
      "---  ------                 --------------  ----- \n",
      " 0   Junk                   62035 non-null  int64 \n",
      " 1   InteriorsStyle         62035 non-null  object\n",
      " 2   PriceIndex8            62035 non-null  object\n",
      " 3   ListDate               62035 non-null  object\n",
      " 4   Material               62035 non-null  object\n",
      " 5   PriceIndex9            62035 non-null  int64 \n",
      " 6   Agency                 62035 non-null  object\n",
      " 7   AreaIncomeType         62035 non-null  object\n",
      " 8   EnvRating              62035 non-null  object\n",
      " 9   PriceIndex7            62035 non-null  object\n",
      " 10  ExpeditedListing       62035 non-null  int64 \n",
      " 11  PriceIndex4            62035 non-null  object\n",
      " 12  PriceIndex1            62035 non-null  object\n",
      " 13  PriceIndex6            62035 non-null  object\n",
      " 14  PRIMEUNIT              62035 non-null  object\n",
      " 15  Channel                62035 non-null  object\n",
      " 16  Zip                    62035 non-null  int64 \n",
      " 17  InsurancePremiumIndex  62035 non-null  int64 \n",
      " 18  PlotType               62035 non-null  object\n",
      " 19  Architecture           62035 non-null  object\n",
      " 20  PriceIndex3            62035 non-null  object\n",
      " 21  Region                 62035 non-null  object\n",
      " 22  PriceIndex5            62035 non-null  object\n",
      " 23  SubModel               62035 non-null  object\n",
      " 24  Facade                 62035 non-null  object\n",
      " 25  State                  62035 non-null  object\n",
      " 26  NormalisedPopulation   62035 non-null  int64 \n",
      " 27  BuildYear              62035 non-null  int64 \n",
      " 28  RegionType             62035 non-null  object\n",
      " 29  PropertyAge            62035 non-null  int64 \n",
      " 30  PriceIndex2            62035 non-null  object\n",
      "dtypes: int64(8), object(23)\n",
      "memory usage: 14.7+ MB\n"
     ]
    },
    {
     "data": {
      "text/html": [
       "<div>\n",
       "<style scoped>\n",
       "    .dataframe tbody tr th:only-of-type {\n",
       "        vertical-align: middle;\n",
       "    }\n",
       "\n",
       "    .dataframe tbody tr th {\n",
       "        vertical-align: top;\n",
       "    }\n",
       "\n",
       "    .dataframe thead th {\n",
       "        text-align: right;\n",
       "    }\n",
       "</style>\n",
       "<table border=\"1\" class=\"dataframe\">\n",
       "  <thead>\n",
       "    <tr style=\"text-align: right;\">\n",
       "      <th></th>\n",
       "      <th>Junk</th>\n",
       "      <th>InteriorsStyle</th>\n",
       "      <th>PriceIndex8</th>\n",
       "      <th>ListDate</th>\n",
       "      <th>Material</th>\n",
       "      <th>PriceIndex9</th>\n",
       "      <th>Agency</th>\n",
       "      <th>AreaIncomeType</th>\n",
       "      <th>EnvRating</th>\n",
       "      <th>PriceIndex7</th>\n",
       "      <th>...</th>\n",
       "      <th>Region</th>\n",
       "      <th>PriceIndex5</th>\n",
       "      <th>SubModel</th>\n",
       "      <th>Facade</th>\n",
       "      <th>State</th>\n",
       "      <th>NormalisedPopulation</th>\n",
       "      <th>BuildYear</th>\n",
       "      <th>RegionType</th>\n",
       "      <th>PropertyAge</th>\n",
       "      <th>PriceIndex2</th>\n",
       "    </tr>\n",
       "  </thead>\n",
       "  <tbody>\n",
       "    <tr>\n",
       "      <th>0</th>\n",
       "      <td>0</td>\n",
       "      <td>6LLJ</td>\n",
       "      <td>14674.0</td>\n",
       "      <td>9/7/2010</td>\n",
       "      <td>UT7W</td>\n",
       "      <td>8270</td>\n",
       "      <td>CAT3</td>\n",
       "      <td>B</td>\n",
       "      <td>missing</td>\n",
       "      <td>13143.0</td>\n",
       "      <td>...</td>\n",
       "      <td>A</td>\n",
       "      <td>9022.0</td>\n",
       "      <td>6E9G</td>\n",
       "      <td>GREEN</td>\n",
       "      <td>MD</td>\n",
       "      <td>42077</td>\n",
       "      <td>2008</td>\n",
       "      <td>A</td>\n",
       "      <td>2</td>\n",
       "      <td>10692.0</td>\n",
       "    </tr>\n",
       "    <tr>\n",
       "      <th>1</th>\n",
       "      <td>1</td>\n",
       "      <td>XZ9F</td>\n",
       "      <td>4172.0</td>\n",
       "      <td>1/7/2009</td>\n",
       "      <td>PRN0</td>\n",
       "      <td>3890</td>\n",
       "      <td>CAT2</td>\n",
       "      <td>B</td>\n",
       "      <td>missing</td>\n",
       "      <td>3461.0</td>\n",
       "      <td>...</td>\n",
       "      <td>A</td>\n",
       "      <td>2742.0</td>\n",
       "      <td>FIVQ</td>\n",
       "      <td>SILVER</td>\n",
       "      <td>OK</td>\n",
       "      <td>77258</td>\n",
       "      <td>2002</td>\n",
       "      <td>A</td>\n",
       "      <td>7</td>\n",
       "      <td>3615.0</td>\n",
       "    </tr>\n",
       "    <tr>\n",
       "      <th>2</th>\n",
       "      <td>0</td>\n",
       "      <td>QWEV</td>\n",
       "      <td>8210.0</td>\n",
       "      <td>6/23/2010</td>\n",
       "      <td>A9RA</td>\n",
       "      <td>5900</td>\n",
       "      <td>CAT1</td>\n",
       "      <td>B</td>\n",
       "      <td>missing</td>\n",
       "      <td>6922.0</td>\n",
       "      <td>...</td>\n",
       "      <td>A</td>\n",
       "      <td>3768.0</td>\n",
       "      <td>4K0H</td>\n",
       "      <td>SILVER</td>\n",
       "      <td>SC</td>\n",
       "      <td>94514</td>\n",
       "      <td>2004</td>\n",
       "      <td>A</td>\n",
       "      <td>6</td>\n",
       "      <td>5805.0</td>\n",
       "    </tr>\n",
       "    <tr>\n",
       "      <th>3</th>\n",
       "      <td>0</td>\n",
       "      <td>MK2K</td>\n",
       "      <td>7309.0</td>\n",
       "      <td>3/19/2009</td>\n",
       "      <td>RRJQ</td>\n",
       "      <td>7460</td>\n",
       "      <td>OTHER</td>\n",
       "      <td>A</td>\n",
       "      <td>missing</td>\n",
       "      <td>6300.0</td>\n",
       "      <td>...</td>\n",
       "      <td>A</td>\n",
       "      <td>5370.0</td>\n",
       "      <td>ZLXY</td>\n",
       "      <td>WHITE</td>\n",
       "      <td>NC</td>\n",
       "      <td>82302</td>\n",
       "      <td>2002</td>\n",
       "      <td>C</td>\n",
       "      <td>7</td>\n",
       "      <td>6444.0</td>\n",
       "    </tr>\n",
       "    <tr>\n",
       "      <th>4</th>\n",
       "      <td>0</td>\n",
       "      <td>GK4G</td>\n",
       "      <td>9182.0</td>\n",
       "      <td>3/3/2010</td>\n",
       "      <td>HE5A</td>\n",
       "      <td>6400</td>\n",
       "      <td>OTHER</td>\n",
       "      <td>B</td>\n",
       "      <td>missing</td>\n",
       "      <td>8330.0</td>\n",
       "      <td>...</td>\n",
       "      <td>A</td>\n",
       "      <td>4803.0</td>\n",
       "      <td>FIVQ</td>\n",
       "      <td>SILVER</td>\n",
       "      <td>SC</td>\n",
       "      <td>49176</td>\n",
       "      <td>2007</td>\n",
       "      <td>B</td>\n",
       "      <td>3</td>\n",
       "      <td>6286.0</td>\n",
       "    </tr>\n",
       "    <tr>\n",
       "      <th>...</th>\n",
       "      <td>...</td>\n",
       "      <td>...</td>\n",
       "      <td>...</td>\n",
       "      <td>...</td>\n",
       "      <td>...</td>\n",
       "      <td>...</td>\n",
       "      <td>...</td>\n",
       "      <td>...</td>\n",
       "      <td>...</td>\n",
       "      <td>...</td>\n",
       "      <td>...</td>\n",
       "      <td>...</td>\n",
       "      <td>...</td>\n",
       "      <td>...</td>\n",
       "      <td>...</td>\n",
       "      <td>...</td>\n",
       "      <td>...</td>\n",
       "      <td>...</td>\n",
       "      <td>...</td>\n",
       "      <td>...</td>\n",
       "      <td>...</td>\n",
       "    </tr>\n",
       "    <tr>\n",
       "      <th>62030</th>\n",
       "      <td>1</td>\n",
       "      <td>DPIW</td>\n",
       "      <td>15110.0</td>\n",
       "      <td>3/31/2010</td>\n",
       "      <td>1PUV</td>\n",
       "      <td>8745</td>\n",
       "      <td>CAT3</td>\n",
       "      <td>missing</td>\n",
       "      <td>missing</td>\n",
       "      <td>13468.0</td>\n",
       "      <td>...</td>\n",
       "      <td>A</td>\n",
       "      <td>10012.0</td>\n",
       "      <td>9D54</td>\n",
       "      <td>WHITE</td>\n",
       "      <td>CA</td>\n",
       "      <td>87562</td>\n",
       "      <td>2006</td>\n",
       "      <td>A</td>\n",
       "      <td>4</td>\n",
       "      <td>11162.0</td>\n",
       "    </tr>\n",
       "    <tr>\n",
       "      <th>62031</th>\n",
       "      <td>0</td>\n",
       "      <td>YOC7</td>\n",
       "      <td>9456.0</td>\n",
       "      <td>10/20/2010</td>\n",
       "      <td>RRJQ</td>\n",
       "      <td>5360</td>\n",
       "      <td>OTHER</td>\n",
       "      <td>B</td>\n",
       "      <td>missing</td>\n",
       "      <td>8543.0</td>\n",
       "      <td>...</td>\n",
       "      <td>A</td>\n",
       "      <td>5439.0</td>\n",
       "      <td>E75G</td>\n",
       "      <td>GOLD</td>\n",
       "      <td>TN</td>\n",
       "      <td>80201</td>\n",
       "      <td>2007</td>\n",
       "      <td>B</td>\n",
       "      <td>3</td>\n",
       "      <td>6147.0</td>\n",
       "    </tr>\n",
       "    <tr>\n",
       "      <th>62032</th>\n",
       "      <td>1</td>\n",
       "      <td>CNKZ</td>\n",
       "      <td>8730.0</td>\n",
       "      <td>5/19/2009</td>\n",
       "      <td>ZCI3</td>\n",
       "      <td>6670</td>\n",
       "      <td>CAT3</td>\n",
       "      <td>A</td>\n",
       "      <td>missing</td>\n",
       "      <td>7217.0</td>\n",
       "      <td>...</td>\n",
       "      <td>A</td>\n",
       "      <td>6219.0</td>\n",
       "      <td>UA42</td>\n",
       "      <td>MAROON</td>\n",
       "      <td>IN</td>\n",
       "      <td>65983</td>\n",
       "      <td>2005</td>\n",
       "      <td>A</td>\n",
       "      <td>4</td>\n",
       "      <td>7620.0</td>\n",
       "    </tr>\n",
       "    <tr>\n",
       "      <th>62033</th>\n",
       "      <td>0</td>\n",
       "      <td>RELA</td>\n",
       "      <td>8546.0</td>\n",
       "      <td>4/30/2009</td>\n",
       "      <td>X7IX</td>\n",
       "      <td>6600</td>\n",
       "      <td>CAT1</td>\n",
       "      <td>A</td>\n",
       "      <td>missing</td>\n",
       "      <td>7316.0</td>\n",
       "      <td>...</td>\n",
       "      <td>A</td>\n",
       "      <td>6311.0</td>\n",
       "      <td>ASW2</td>\n",
       "      <td>SILVER</td>\n",
       "      <td>TX</td>\n",
       "      <td>59780</td>\n",
       "      <td>2006</td>\n",
       "      <td>A</td>\n",
       "      <td>3</td>\n",
       "      <td>7450.0</td>\n",
       "    </tr>\n",
       "    <tr>\n",
       "      <th>62034</th>\n",
       "      <td>0</td>\n",
       "      <td>DUFA</td>\n",
       "      <td>12658.0</td>\n",
       "      <td>11/3/2010</td>\n",
       "      <td>IKAF</td>\n",
       "      <td>8700</td>\n",
       "      <td>CAT2</td>\n",
       "      <td>B</td>\n",
       "      <td>missing</td>\n",
       "      <td>12002.0</td>\n",
       "      <td>...</td>\n",
       "      <td>A</td>\n",
       "      <td>8930.0</td>\n",
       "      <td>FIVQ</td>\n",
       "      <td>GOLD</td>\n",
       "      <td>OK</td>\n",
       "      <td>38703</td>\n",
       "      <td>2009</td>\n",
       "      <td>A</td>\n",
       "      <td>1</td>\n",
       "      <td>9196.0</td>\n",
       "    </tr>\n",
       "  </tbody>\n",
       "</table>\n",
       "<p>62035 rows × 31 columns</p>\n",
       "</div>"
      ],
      "text/plain": [
       "       Junk InteriorsStyle PriceIndex8    ListDate Material  PriceIndex9  \\\n",
       "0         0           6LLJ     14674.0    9/7/2010     UT7W         8270   \n",
       "1         1           XZ9F      4172.0    1/7/2009     PRN0         3890   \n",
       "2         0           QWEV      8210.0   6/23/2010     A9RA         5900   \n",
       "3         0           MK2K      7309.0   3/19/2009     RRJQ         7460   \n",
       "4         0           GK4G      9182.0    3/3/2010     HE5A         6400   \n",
       "...     ...            ...         ...         ...      ...          ...   \n",
       "62030     1           DPIW     15110.0   3/31/2010     1PUV         8745   \n",
       "62031     0           YOC7      9456.0  10/20/2010     RRJQ         5360   \n",
       "62032     1           CNKZ      8730.0   5/19/2009     ZCI3         6670   \n",
       "62033     0           RELA      8546.0   4/30/2009     X7IX         6600   \n",
       "62034     0           DUFA     12658.0   11/3/2010     IKAF         8700   \n",
       "\n",
       "      Agency AreaIncomeType EnvRating PriceIndex7  ...  Region PriceIndex5  \\\n",
       "0       CAT3              B   missing     13143.0  ...       A      9022.0   \n",
       "1       CAT2              B   missing      3461.0  ...       A      2742.0   \n",
       "2       CAT1              B   missing      6922.0  ...       A      3768.0   \n",
       "3      OTHER              A   missing      6300.0  ...       A      5370.0   \n",
       "4      OTHER              B   missing      8330.0  ...       A      4803.0   \n",
       "...      ...            ...       ...         ...  ...     ...         ...   \n",
       "62030   CAT3        missing   missing     13468.0  ...       A     10012.0   \n",
       "62031  OTHER              B   missing      8543.0  ...       A      5439.0   \n",
       "62032   CAT3              A   missing      7217.0  ...       A      6219.0   \n",
       "62033   CAT1              A   missing      7316.0  ...       A      6311.0   \n",
       "62034   CAT2              B   missing     12002.0  ...       A      8930.0   \n",
       "\n",
       "      SubModel  Facade State NormalisedPopulation  BuildYear  RegionType  \\\n",
       "0         6E9G   GREEN    MD                42077       2008           A   \n",
       "1         FIVQ  SILVER    OK                77258       2002           A   \n",
       "2         4K0H  SILVER    SC                94514       2004           A   \n",
       "3         ZLXY   WHITE    NC                82302       2002           C   \n",
       "4         FIVQ  SILVER    SC                49176       2007           B   \n",
       "...        ...     ...   ...                  ...        ...         ...   \n",
       "62030     9D54   WHITE    CA                87562       2006           A   \n",
       "62031     E75G    GOLD    TN                80201       2007           B   \n",
       "62032     UA42  MAROON    IN                65983       2005           A   \n",
       "62033     ASW2  SILVER    TX                59780       2006           A   \n",
       "62034     FIVQ    GOLD    OK                38703       2009           A   \n",
       "\n",
       "      PropertyAge PriceIndex2  \n",
       "0               2     10692.0  \n",
       "1               7      3615.0  \n",
       "2               6      5805.0  \n",
       "3               7      6444.0  \n",
       "4               3      6286.0  \n",
       "...           ...         ...  \n",
       "62030           4     11162.0  \n",
       "62031           3      6147.0  \n",
       "62032           4      7620.0  \n",
       "62033           3      7450.0  \n",
       "62034           1      9196.0  \n",
       "\n",
       "[62035 rows x 31 columns]"
      ]
     },
     "execution_count": 30,
     "metadata": {},
     "output_type": "execute_result"
    }
   ],
   "source": [
    "data = pd.read_csv(\"Property_train.csv\")\n",
    "data.info()\n",
    "data"
   ]
  },
  {
   "cell_type": "markdown",
   "id": "c0224c57-06bf-40a3-915d-ddd173e98a7a",
   "metadata": {},
   "source": [
    "# Ques: 1"
   ]
  },
  {
   "cell_type": "code",
   "execution_count": 31,
   "id": "cafb89cb-70aa-4c39-aca7-1de074123026",
   "metadata": {},
   "outputs": [
    {
     "data": {
      "text/plain": [
       "EnvRating\n",
       "missing    59092\n",
       "Name: count, dtype: int64"
      ]
     },
     "execution_count": 31,
     "metadata": {},
     "output_type": "execute_result"
    }
   ],
   "source": [
    "(data['EnvRating'][data['EnvRating']==\"missing\"]).value_counts()"
   ]
  },
  {
   "cell_type": "code",
   "execution_count": 32,
   "id": "a77cb314-bca7-4e87-8a4c-cacd4efe1a34",
   "metadata": {},
   "outputs": [
    {
     "name": "stdout",
     "output_type": "stream",
     "text": [
      "EnvRating\n",
      "True     59092\n",
      "False     2943\n",
      "Name: count, dtype: int64\n"
     ]
    }
   ],
   "source": [
    "k=(data['EnvRating']==\"missing\").value_counts()\n",
    "print(k)"
   ]
  },
  {
   "cell_type": "markdown",
   "id": "d7b6d097-bc58-4ab6-ae92-724c66fa0088",
   "metadata": {},
   "source": [
    "# Ques: 2"
   ]
  },
  {
   "cell_type": "code",
   "execution_count": 33,
   "id": "8b29913d-9fa0-4bdc-bf62-024ba2d8a8f5",
   "metadata": {},
   "outputs": [],
   "source": [
    "data['ListDate']=pd.to_datetime(data['ListDate'])"
   ]
  },
  {
   "cell_type": "code",
   "execution_count": 34,
   "id": "c6657c34-e121-4086-b98e-1604e86ff0f0",
   "metadata": {},
   "outputs": [],
   "source": [
    "month_counts=data['ListDate'].dt.to_period(\"M\").value_counts()"
   ]
  },
  {
   "cell_type": "code",
   "execution_count": 35,
   "id": "280954d4-268c-43bf-9456-1ffcfc714c99",
   "metadata": {},
   "outputs": [
    {
     "name": "stdout",
     "output_type": "stream",
     "text": [
      "max months are 2010-11 with counts 3382\n"
     ]
    }
   ],
   "source": [
    "max_months=month_counts.idxmax()\n",
    "max_counts=month_counts.max()\n",
    "print(f\"max months are {max_months} with counts {max_counts}\")"
   ]
  },
  {
   "cell_type": "markdown",
   "id": "29938d56-1401-4887-973f-48acf531c783",
   "metadata": {},
   "source": [
    "# Ques: 3"
   ]
  },
  {
   "cell_type": "code",
   "execution_count": 36,
   "id": "6f4089e7-55f6-4b1e-bbe2-4b1a02f48f6e",
   "metadata": {},
   "outputs": [
    {
     "data": {
      "text/html": [
       "<div>\n",
       "<style scoped>\n",
       "    .dataframe tbody tr th:only-of-type {\n",
       "        vertical-align: middle;\n",
       "    }\n",
       "\n",
       "    .dataframe tbody tr th {\n",
       "        vertical-align: top;\n",
       "    }\n",
       "\n",
       "    .dataframe thead th {\n",
       "        text-align: right;\n",
       "    }\n",
       "</style>\n",
       "<table border=\"1\" class=\"dataframe\">\n",
       "  <thead>\n",
       "    <tr style=\"text-align: right;\">\n",
       "      <th></th>\n",
       "      <th>AreaIncomeType</th>\n",
       "      <th>Agency</th>\n",
       "    </tr>\n",
       "  </thead>\n",
       "  <tbody>\n",
       "    <tr>\n",
       "      <th>count</th>\n",
       "      <td>62035</td>\n",
       "      <td>62035</td>\n",
       "    </tr>\n",
       "    <tr>\n",
       "      <th>unique</th>\n",
       "      <td>4</td>\n",
       "      <td>5</td>\n",
       "    </tr>\n",
       "    <tr>\n",
       "      <th>top</th>\n",
       "      <td>A</td>\n",
       "      <td>CAT1</td>\n",
       "    </tr>\n",
       "    <tr>\n",
       "      <th>freq</th>\n",
       "      <td>30565</td>\n",
       "      <td>21545</td>\n",
       "    </tr>\n",
       "  </tbody>\n",
       "</table>\n",
       "</div>"
      ],
      "text/plain": [
       "       AreaIncomeType Agency\n",
       "count           62035  62035\n",
       "unique              4      5\n",
       "top                 A   CAT1\n",
       "freq            30565  21545"
      ]
     },
     "execution_count": 36,
     "metadata": {},
     "output_type": "execute_result"
    }
   ],
   "source": [
    "l = data[['AreaIncomeType','Agency']]\n",
    "l.describe(include=\"all\")"
   ]
  },
  {
   "cell_type": "markdown",
   "id": "f447cc9e-8397-4b42-b60e-8faaceae9d9b",
   "metadata": {},
   "source": [
    "# Ques: 4"
   ]
  },
  {
   "cell_type": "code",
   "execution_count": 37,
   "id": "583f14ff-4357-4251-9886-085681b99271",
   "metadata": {},
   "outputs": [
    {
     "name": "stdout",
     "output_type": "stream",
     "text": [
      "The state AR has the highest median Property Age at 6.0\n"
     ]
    }
   ],
   "source": [
    "gd_data=data.groupby('State')\n",
    "statewise_median_age = gd_data['PropertyAge'].median().max()\n",
    "state_max = gd_data['PropertyAge'].median().idxmax()\n",
    "print(f\"The state {state_max} has the highest median Property Age at {statewise_median_age}\")"
   ]
  },
  {
   "cell_type": "markdown",
   "id": "3adddcb9-3096-4c8d-aea9-673992e1d91f",
   "metadata": {},
   "source": [
    "# Ques: 5"
   ]
  },
  {
   "cell_type": "code",
   "execution_count": 38,
   "id": "88f87378-36b6-45ad-a075-d0f759e3bc2a",
   "metadata": {},
   "outputs": [
    {
     "name": "stdout",
     "output_type": "stream",
     "text": [
      "6066861.380965519\n"
     ]
    }
   ],
   "source": [
    "b = pd.to_numeric(data['PriceIndex1'],errors='coerce')\n",
    "n = np.var(b)\n",
    "print(n)"
   ]
  },
  {
   "cell_type": "markdown",
   "id": "2f2d3a63-ce7e-4116-80d2-0605c0700373",
   "metadata": {},
   "source": [
    "# Ques: 6"
   ]
  },
  {
   "cell_type": "code",
   "execution_count": 44,
   "id": "bfa067e1-488a-43d1-b40e-9509d48bfe3a",
   "metadata": {},
   "outputs": [
    {
     "data": {
      "text/plain": [
       "73381.30404205926"
      ]
     },
     "execution_count": 44,
     "metadata": {},
     "output_type": "execute_result"
    }
   ],
   "source": [
    "g_data = data.groupby('Architecture')\n",
    "me_an = g_data['NormalisedPopulation'].mean()\n",
    "me_an['YIK5']"
   ]
  },
  {
   "cell_type": "markdown",
   "id": "c65681ac-bc73-4d73-9e45-93677e5933ab",
   "metadata": {},
   "source": [
    "# Ques: 7"
   ]
  },
  {
   "cell_type": "code",
   "execution_count": 50,
   "id": "d71dbdd1-5ee7-4988-8d06-993b12383c8f",
   "metadata": {},
   "outputs": [
    {
     "name": "stdout",
     "output_type": "stream",
     "text": [
      "41062.0\n"
     ]
    }
   ],
   "source": [
    "g = pd.to_numeric(data['PriceIndex8'],errors='coerce')\n",
    "m = g.max()\n",
    "n = g.min()\n",
    "k = m - n\n",
    "print(k)"
   ]
  },
  {
   "cell_type": "code",
   "execution_count": null,
   "id": "07662315-c6fa-4324-a06e-b1b78bbe3cba",
   "metadata": {},
   "outputs": [],
   "source": []
  }
 ],
 "metadata": {
  "kernelspec": {
   "display_name": "Python 3 (ipykernel)",
   "language": "python",
   "name": "python3"
  },
  "language_info": {
   "codemirror_mode": {
    "name": "ipython",
    "version": 3
   },
   "file_extension": ".py",
   "mimetype": "text/x-python",
   "name": "python",
   "nbconvert_exporter": "python",
   "pygments_lexer": "ipython3",
   "version": "3.10.4"
  }
 },
 "nbformat": 4,
 "nbformat_minor": 5
}

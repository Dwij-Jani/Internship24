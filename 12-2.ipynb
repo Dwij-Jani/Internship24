{
 "cells": [
  {
   "cell_type": "code",
   "execution_count": 10,
   "id": "cda4df6c-e0ab-48ff-a556-bf59c54cf05a",
   "metadata": {},
   "outputs": [],
   "source": [
    "import cv2"
   ]
  },
  {
   "cell_type": "code",
   "execution_count": 11,
   "id": "9e3aae6c-c1dd-40b9-bc63-fae0a7b009b3",
   "metadata": {},
   "outputs": [],
   "source": [
    "import numpy as np"
   ]
  },
  {
   "cell_type": "code",
   "execution_count": 12,
   "id": "c2c490df-3db3-4fbf-a438-ef66d14323a7",
   "metadata": {},
   "outputs": [
    {
     "data": {
      "text/plain": [
       "array([[[255, 255, 255],\n",
       "        [255, 255, 255],\n",
       "        [255, 255, 255],\n",
       "        ...,\n",
       "        [255, 255, 255],\n",
       "        [255, 255, 255],\n",
       "        [255, 255, 255]],\n",
       "\n",
       "       [[255, 255, 255],\n",
       "        [255, 255, 255],\n",
       "        [255, 255, 255],\n",
       "        ...,\n",
       "        [255, 255, 255],\n",
       "        [255, 255, 255],\n",
       "        [255, 255, 255]],\n",
       "\n",
       "       [[255, 255, 255],\n",
       "        [255, 255, 255],\n",
       "        [255, 255, 255],\n",
       "        ...,\n",
       "        [255, 255, 255],\n",
       "        [255, 255, 255],\n",
       "        [255, 255, 255]],\n",
       "\n",
       "       ...,\n",
       "\n",
       "       [[255, 255, 255],\n",
       "        [255, 255, 255],\n",
       "        [255, 255, 255],\n",
       "        ...,\n",
       "        [255, 255, 255],\n",
       "        [255, 255, 255],\n",
       "        [255, 255, 255]],\n",
       "\n",
       "       [[255, 255, 255],\n",
       "        [255, 255, 255],\n",
       "        [255, 255, 255],\n",
       "        ...,\n",
       "        [255, 255, 255],\n",
       "        [255, 255, 255],\n",
       "        [255, 255, 255]],\n",
       "\n",
       "       [[255, 255, 255],\n",
       "        [255, 255, 255],\n",
       "        [255, 255, 255],\n",
       "        ...,\n",
       "        [255, 255, 255],\n",
       "        [255, 255, 255],\n",
       "        [255, 255, 255]]], dtype=uint8)"
      ]
     },
     "execution_count": 12,
     "metadata": {},
     "output_type": "execute_result"
    }
   ],
   "source": [
    "image = cv2.imread(\"hp.webp\")\n",
    "image"
   ]
  },
  {
   "cell_type": "code",
   "execution_count": 13,
   "id": "3fdc2c07-5c88-49de-af4b-145d77f72f11",
   "metadata": {},
   "outputs": [],
   "source": [
    "cv2.imshow(\"image\",image)\n",
    "cv2.waitKey(0)\n",
    "cv2.destroyAllWindows()"
   ]
  },
  {
   "cell_type": "code",
   "execution_count": 19,
   "id": "0d0edee0-be28-40d1-80f8-6da08d60c8ee",
   "metadata": {},
   "outputs": [],
   "source": [
    "if image is None:\n",
    "    print(\"No image.\")\n",
    "kernel1 = np.array([[-10,0,10],\n",
    "                    [0,0,0],\n",
    "                    [-10,0,10]])\n",
    "identity = cv2.filter2D(src = image, ddepth=-1, kernel = kernel1)\n",
    "cv2.imshow(\"Original\",image)\n",
    "cv2.imshow(\"Filtered\",identity)\n",
    "cv2.waitKey(0)\n",
    "cv2.destroyAllWindows()"
   ]
  },
  {
   "cell_type": "code",
   "execution_count": 22,
   "id": "2fd51a20-04a4-48a4-a641-14f938c4e8a2",
   "metadata": {},
   "outputs": [],
   "source": [
    "kernel2 = np.ones((9,9), np.float32)/25\n",
    "img = cv2.filter2D(src=image, ddepth=-1, kernel=kernel2)\n",
    "\n",
    "cv2.imshow('Original', image)\n",
    "cv2.imshow('Kernel Blur', img)\n",
    "    \n",
    "cv2.waitKey()\n",
    "cv2.destroyAllWindows()"
   ]
  },
  {
   "cell_type": "code",
   "execution_count": 23,
   "id": "b71559e6-16e7-4cce-9270-83cdbccc938c",
   "metadata": {},
   "outputs": [
    {
     "data": {
      "text/plain": [
       "array([[127, 127, 127, ..., 127, 127, 127],\n",
       "       [127, 127, 127, ..., 127, 127, 127],\n",
       "       [127, 127, 127, ..., 127, 127, 127],\n",
       "       ...,\n",
       "       [127, 127, 127, ..., 127, 127, 127],\n",
       "       [127, 127, 127, ..., 127, 127, 127],\n",
       "       [127, 127, 127, ..., 127, 127, 127]], dtype=uint8)"
      ]
     },
     "execution_count": 23,
     "metadata": {},
     "output_type": "execute_result"
    }
   ],
   "source": [
    "b,g,r=cv2.split(image)\n",
    "g=b//2\n",
    "g"
   ]
  },
  {
   "cell_type": "code",
   "execution_count": 24,
   "id": "80d8a3f0-2fdd-43cd-b128-d187a3238f0f",
   "metadata": {},
   "outputs": [],
   "source": [
    "img=cv2.merge((b,g,r))\n",
    "cv2.imshow('Original', img)\n",
    "cv2.waitKey()\n",
    "cv2.destroyAllWindows()"
   ]
  },
  {
   "cell_type": "code",
   "execution_count": null,
   "id": "71577038-748e-43f6-bd84-bcfd117dae77",
   "metadata": {},
   "outputs": [],
   "source": []
  }
 ],
 "metadata": {
  "kernelspec": {
   "display_name": "Python 3 (ipykernel)",
   "language": "python",
   "name": "python3"
  },
  "language_info": {
   "codemirror_mode": {
    "name": "ipython",
    "version": 3
   },
   "file_extension": ".py",
   "mimetype": "text/x-python",
   "name": "python",
   "nbconvert_exporter": "python",
   "pygments_lexer": "ipython3",
   "version": "3.10.4"
  }
 },
 "nbformat": 4,
 "nbformat_minor": 5
}
